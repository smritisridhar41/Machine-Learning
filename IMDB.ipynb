{
 "cells": [
  {
   "cell_type": "code",
   "execution_count": 19,
   "metadata": {},
   "outputs": [],
   "source": [
    "import numpy as np\n",
    "import keras\n",
    "from keras.datasets import imdb\n",
    "from keras import models\n",
    "from keras import layers\n",
    "import matplotlib.pyplot as plt"
   ]
  },
  {
   "cell_type": "code",
   "execution_count": 7,
   "metadata": {},
   "outputs": [],
   "source": [
    "# save np.load\n",
    "np_load_old = np.load\n",
    "\n",
    "# modify the default parameters of np.load\n",
    "np.load = lambda *a,**k: np_load_old(*a, allow_pickle=True, **k)\n",
    "\n",
    "# call load_data with allow_pickle implicitly set to true\n",
    "(train_data, train_labels), (test_data, test_labels) = imdb.load_data(num_words=10000)\n",
    "\n",
    "# restore np.load for future normal usage\n",
    "np.load = np_load_old\n",
    "\n",
    "del(np_load_old)"
   ]
  },
  {
   "cell_type": "code",
   "execution_count": 8,
   "metadata": {},
   "outputs": [],
   "source": [
    "def vectorize_sequences(sequences, dimension=10000):\n",
    "    results = np.zeros((len(sequences), dimension))\n",
    "\n",
    "    for i, sequence in enumerate(sequences):\n",
    "        results[i, sequence] = 1.\n",
    "        \n",
    "    return results"
   ]
  },
  {
   "cell_type": "code",
   "execution_count": 44,
   "metadata": {},
   "outputs": [],
   "source": [
    "x_train = vectorize_sequences(train_data)\n",
    "y_train = np.asarray(train_labels).astype('float32')\n",
    "\n",
    "x_test = vectorize_sequences(test_data)\n",
    "y_test = np.asarray(test_labels).astype('float32')"
   ]
  },
  {
   "cell_type": "code",
   "execution_count": 10,
   "metadata": {},
   "outputs": [
    {
     "name": "stdout",
     "output_type": "stream",
     "text": [
      "WARNING:tensorflow:From /usr/Sarath/anaconda3/envs/DeepTrails/lib/python3.7/site-packages/tensorflow/python/framework/op_def_library.py:263: colocate_with (from tensorflow.python.framework.ops) is deprecated and will be removed in a future version.\n",
      "Instructions for updating:\n",
      "Colocations handled automatically by placer.\n"
     ]
    }
   ],
   "source": [
    "cls_model = models.Sequential()\n",
    "cls_model.add(layers.Dense(16, activation = 'relu', input_shape = (10000,)))\n",
    "cls_model.add(layers.Dense(16, activation = 'relu'))\n",
    "cls_model.add(layers.Dense(1, activation = 'sigmoid'))"
   ]
  },
  {
   "cell_type": "code",
   "execution_count": 11,
   "metadata": {},
   "outputs": [],
   "source": [
    "cls_model.compile(optimizer = 'rmsprop',  loss = 'binary_crossentropy', metrics = ['accuracy'])"
   ]
  },
  {
   "cell_type": "code",
   "execution_count": 12,
   "metadata": {},
   "outputs": [
    {
     "data": {
      "text/plain": [
       "(25000, 10000)"
      ]
     },
     "execution_count": 12,
     "metadata": {},
     "output_type": "execute_result"
    }
   ],
   "source": [
    "np.shape(x_train)"
   ]
  },
  {
   "cell_type": "code",
   "execution_count": 16,
   "metadata": {},
   "outputs": [
    {
     "data": {
      "text/plain": [
       "(15000, 10000)"
      ]
     },
     "execution_count": 16,
     "metadata": {},
     "output_type": "execute_result"
    }
   ],
   "source": [
    "partial_x_train = x_train[10000:]\n",
    "partial_y_train = y_train[10000:]\n",
    "\n",
    "x_val = x_train[:10000]\n",
    "y_val = y_train[:10000]\n",
    "\n",
    "np.shape(partial_x_train)\n",
    "#np.shape(x_val)"
   ]
  },
  {
   "cell_type": "code",
   "execution_count": 17,
   "metadata": {},
   "outputs": [
    {
     "name": "stdout",
     "output_type": "stream",
     "text": [
      "WARNING:tensorflow:From /usr/Sarath/anaconda3/envs/DeepTrails/lib/python3.7/site-packages/tensorflow/python/ops/math_ops.py:3066: to_int32 (from tensorflow.python.ops.math_ops) is deprecated and will be removed in a future version.\n",
      "Instructions for updating:\n",
      "Use tf.cast instead.\n",
      "Train on 15000 samples, validate on 10000 samples\n",
      "Epoch 1/20\n",
      "15000/15000 [==============================] - 3s 215us/step - loss: 0.6936 - acc: 0.4951 - val_loss: 0.6932 - val_acc: 0.5010\n",
      "Epoch 2/20\n",
      "15000/15000 [==============================] - 1s 51us/step - loss: 0.6837 - acc: 0.5753 - val_loss: 0.6949 - val_acc: 0.5027\n",
      "Epoch 3/20\n",
      "15000/15000 [==============================] - 1s 51us/step - loss: 0.6450 - acc: 0.6495 - val_loss: 0.7183 - val_acc: 0.5017\n",
      "Epoch 4/20\n",
      "15000/15000 [==============================] - 1s 60us/step - loss: 0.5886 - acc: 0.7136 - val_loss: 0.7353 - val_acc: 0.4953\n",
      "Epoch 5/20\n",
      "15000/15000 [==============================] - 1s 51us/step - loss: 0.5401 - acc: 0.7475 - val_loss: 0.7696 - val_acc: 0.4957\n",
      "Epoch 6/20\n",
      "15000/15000 [==============================] - 1s 53us/step - loss: 0.4924 - acc: 0.7857 - val_loss: 0.8225 - val_acc: 0.4992\n",
      "Epoch 7/20\n",
      "15000/15000 [==============================] - 1s 50us/step - loss: 0.4426 - acc: 0.8225 - val_loss: 0.8384 - val_acc: 0.4948\n",
      "Epoch 8/20\n",
      "15000/15000 [==============================] - 1s 51us/step - loss: 0.4039 - acc: 0.8406 - val_loss: 0.8671 - val_acc: 0.4972\n",
      "Epoch 9/20\n",
      "15000/15000 [==============================] - 1s 50us/step - loss: 0.3584 - acc: 0.8685 - val_loss: 0.9424 - val_acc: 0.4961\n",
      "Epoch 10/20\n",
      "15000/15000 [==============================] - 1s 50us/step - loss: 0.3201 - acc: 0.8875 - val_loss: 0.9930 - val_acc: 0.4943\n",
      "Epoch 11/20\n",
      "15000/15000 [==============================] - 1s 51us/step - loss: 0.2808 - acc: 0.9082 - val_loss: 1.0074 - val_acc: 0.5011\n",
      "Epoch 12/20\n",
      "15000/15000 [==============================] - 1s 50us/step - loss: 0.2345 - acc: 0.9347 - val_loss: 1.1502 - val_acc: 0.5026\n",
      "Epoch 13/20\n",
      "15000/15000 [==============================] - 1s 51us/step - loss: 0.2139 - acc: 0.9378 - val_loss: 1.1441 - val_acc: 0.4985\n",
      "Epoch 14/20\n",
      "15000/15000 [==============================] - 1s 51us/step - loss: 0.1785 - acc: 0.9531 - val_loss: 1.2309 - val_acc: 0.4977\n",
      "Epoch 15/20\n",
      "15000/15000 [==============================] - 1s 50us/step - loss: 0.1426 - acc: 0.9693 - val_loss: 1.2986 - val_acc: 0.4998\n",
      "Epoch 16/20\n",
      "15000/15000 [==============================] - 1s 54us/step - loss: 0.1351 - acc: 0.9662 - val_loss: 1.3788 - val_acc: 0.5002\n",
      "Epoch 17/20\n",
      "15000/15000 [==============================] - 1s 52us/step - loss: 0.1066 - acc: 0.9761 - val_loss: 1.4645 - val_acc: 0.4996\n",
      "Epoch 18/20\n",
      "15000/15000 [==============================] - 1s 51us/step - loss: 0.0959 - acc: 0.9787 - val_loss: 1.5565 - val_acc: 0.4962\n",
      "Epoch 19/20\n",
      "15000/15000 [==============================] - 1s 52us/step - loss: 0.0800 - acc: 0.9827 - val_loss: 1.6145 - val_acc: 0.4986\n",
      "Epoch 20/20\n",
      "15000/15000 [==============================] - 1s 51us/step - loss: 0.0719 - acc: 0.9826 - val_loss: 1.6570 - val_acc: 0.4979\n"
     ]
    }
   ],
   "source": [
    "#Training\n",
    "history = cls_model.fit(partial_x_train, partial_y_train, epochs = 20, batch_size = 512, validation_data = (x_val, y_val) )"
   ]
  },
  {
   "cell_type": "code",
   "execution_count": 26,
   "metadata": {},
   "outputs": [
    {
     "data": {
      "text/plain": [
       "dict_keys(['val_loss', 'val_acc', 'loss', 'acc'])"
      ]
     },
     "execution_count": 26,
     "metadata": {},
     "output_type": "execute_result"
    }
   ],
   "source": [
    "history_dict = history.history\n",
    "history_dict.keys()"
   ]
  },
  {
   "cell_type": "code",
   "execution_count": 32,
   "metadata": {},
   "outputs": [
    {
     "data": {
      "text/plain": [
       "range(1, 21)"
      ]
     },
     "execution_count": 32,
     "metadata": {},
     "output_type": "execute_result"
    }
   ],
   "source": [
    "training_loss = history_dict['loss']\n",
    "validation_loss = history_dict['val_loss']\n",
    "epochs = range(1,len(training_loss)+1)\n",
    "\n",
    "training_acc = history_dict['acc']\n",
    "validation_acc = history_dict['val_acc']\n",
    "epochs"
   ]
  },
  {
   "cell_type": "code",
   "execution_count": 33,
   "metadata": {},
   "outputs": [
    {
     "data": {
      "image/png": "[encoded data removed]",
      "text/plain": [
       "<Figure size 432x288 with 1 Axes>"
      ]
     },
     "metadata": {
      "needs_background": "light"
     },
     "output_type": "display_data"
    }
   ],
   "source": [
    "plt.plot(epochs, training_loss, 'bo', label = 'Training Loss')\n",
    "plt.plot(epochs, validation_loss, 'b', label = 'Validation Loss')\n",
    "plt.xlabel('Epochs')\n",
    "plt.ylabel('Loss')\n",
    "plt.legend()\n",
    "\n",
    "plt.show()"
   ]
  },
  {
   "cell_type": "code",
   "execution_count": 34,
   "metadata": {},
   "outputs": [
    {
     "data": {
      "image/png": "[encoded data removed]",
      "text/plain": [
       "<Figure size 432x288 with 1 Axes>"
      ]
     },
     "metadata": {
      "needs_background": "light"
     },
     "output_type": "display_data"
    }
   ],
   "source": [
    "plt.plot(epochs, training_acc, 'ko', label = 'Training Accuracy')\n",
    "plt.plot(epochs, validation_acc, 'k', label = 'Validation Accuracy')\n",
    "plt.xlabel('Epochs')\n",
    "plt.ylabel('Accuracy')\n",
    "plt.legend()\n",
    "\n",
    "plt.show()"
   ]
  },
  {
   "cell_type": "code",
   "execution_count": 40,
   "metadata": {},
   "outputs": [],
   "source": [
    "PredOutProb = cls_model.predict(x_test)"
   ]
  },
  {
   "cell_type": "code",
   "execution_count": 98,
   "metadata": {},
   "outputs": [
    {
     "data": {
      "text/plain": [
       "array([[0],\n",
       "       [1],\n",
       "       [1],\n",
       "       ...,\n",
       "       [1],\n",
       "       [0],\n",
       "       [1]])"
      ]
     },
     "execution_count": 98,
     "metadata": {},
     "output_type": "execute_result"
    }
   ],
   "source": [
    "PredOutClas = (PredOutProb<0.5)\n",
    "PredOutClas.astype(int)"
   ]
  },
  {
   "cell_type": "code",
   "execution_count": 99,
   "metadata": {},
   "outputs": [],
   "source": [
    "y_test = y_test.reshape((25000,1))"
   ]
  },
  {
   "cell_type": "code",
   "execution_count": 100,
   "metadata": {},
   "outputs": [
    {
     "data": {
      "text/plain": [
       "(25000, 1)"
      ]
     },
     "execution_count": 100,
     "metadata": {},
     "output_type": "execute_result"
    }
   ],
   "source": [
    "np.shape(y_test)"
   ]
  },
  {
   "cell_type": "code",
   "execution_count": 101,
   "metadata": {},
   "outputs": [],
   "source": [
    "Err = y_test != PredOutClas"
   ]
  },
  {
   "cell_type": "code",
   "execution_count": 102,
   "metadata": {},
   "outputs": [
    {
     "data": {
      "text/plain": [
       "12489"
      ]
     },
     "execution_count": 102,
     "metadata": {},
     "output_type": "execute_result"
    }
   ],
   "source": [
    "np.sum(Err)"
   ]
  },
  {
   "cell_type": "code",
   "execution_count": 103,
   "metadata": {},
   "outputs": [
    {
     "data": {
      "text/plain": [
       "0.49956"
      ]
     },
     "execution_count": 103,
     "metadata": {},
     "output_type": "execute_result"
    }
   ],
   "source": [
    "np.mean(Err)"
   ]
  },
  {
   "cell_type": "code",
   "execution_count": null,
   "metadata": {},
   "outputs": [],
   "source": []
  }
 ],
 "metadata": {
  "kernelspec": {
   "display_name": "Python 3",
   "language": "python",
   "name": "python3"
  },
  "language_info": {
   "codemirror_mode": {
    "name": "ipython",
    "version": 3
   },
   "file_extension": ".py",
   "mimetype": "text/x-python",
   "name": "python",
   "nbconvert_exporter": "python",
   "pygments_lexer": "ipython3",
   "version": "3.7.3"
  }
 },
 "nbformat": 4,
 "nbformat_minor": 2
}
